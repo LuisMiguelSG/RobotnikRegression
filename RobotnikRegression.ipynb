{
  "cells": [
    {
      "cell_type": "markdown",
      "metadata": {
        "id": "view-in-github",
        "colab_type": "text"
      },
      "source": [
        "<a href=\"https://colab.research.google.com/github/LuisMiguelSG/RobotnikRegression/blob/main/RobotnikRegression.ipynb\" target=\"_parent\"><img src=\"https://colab.research.google.com/assets/colab-badge.svg\" alt=\"Open In Colab\"/></a>"
      ]
    },
    {
      "cell_type": "markdown",
      "metadata": {
        "id": "X6b99KStm6K9"
      },
      "source": [
        "# Regresión Robotnik\n",
        "\n",
        "Ejercicio inspirado en Reggie's Linear Regression de Codecademy (2022) y referencias a películas y videojuegos.\n",
        "\n",
        "El Dr. Robotnik ha sido contratado para capturar a un erizo azúl que está provocando fluctuaciones eléctricas en un pueblo lejano de Norteamérica. Al verse frente a frente, Robotnik se mostró fascinado por la criatura y decidió capturarla para sus experimentos. Desafortunadamente, el erizo demostró poseer una velocidad nunca antes registrada por un organismo vivo en la Tierra, además de la capacidad de liberar una gran cantidad de energía a medida que incrementaba su velocidad.\n",
        "\n",
        "Después de observar cómo el erizo destruía uno a uno los robots con los que pretendía capturarle, Robotnik regresa a su laboratorio para diseñar un dispositivo que pueda soportar la fuerza de choque del erizo. Para ello, necesitará modelar la relación entre la velocidad y la cantidad de energía liberada por el erizo a través de una regresión lineal utilizando los datos recolectados durante su encuentro.\n",
        "\n",
        "Una _regresión lineal_ se basa en un grupo de puntos sobre una gráfica en donde se desea encontrar una línea que se aproxime a estos puntos minimizando el _error_ o la distancia de cada punto hacia la línea.\n",
        "\n",
        "El objetivo de este taller es utilizar ciclos, listas, operaciones aritméticas y funciones para crear una función que encuentre la línea de mejor ajuste para una serie de datos dados (en este caso, la velocidad y energía liberada por el erizo)."
      ]
    },
    {
      "cell_type": "markdown",
      "metadata": {
        "id": "Xr0wJ-c2m6LI"
      },
      "source": [
        "## Parte 1: Cálculo del Error"
      ]
    },
    {
      "cell_type": "markdown",
      "metadata": {
        "id": "MgM4G80Vm6LJ"
      },
      "source": [
        "La línea que deseamos encontrar es de la forma:\n",
        "\n",
        "$$y = mx + b$$\n",
        "\n",
        "donde $m$ es la pendiente de la línea y $b$ el intercepto donde la línea se cruza con el eje $y$.\n",
        "\n",
        "Crea una función llamada `get_y()` que reciba como parámetros `m`, `b` y `x` y retorne el valor de `y` para esa `x`."
      ]
    },
    {
      "cell_type": "code",
      "execution_count": 25,
      "metadata": {
        "id": "yUc__-Vwm6LK",
        "outputId": "8c74d141-b3d2-4db7-e8dc-690d4697f475",
        "colab": {
          "base_uri": "https://localhost:8080/"
        }
      },
      "outputs": [
        {
          "output_type": "execute_result",
          "data": {
            "text/plain": [
              "21"
            ]
          },
          "metadata": {},
          "execution_count": 25
        }
      ],
      "source": [
        "def get_y(m,b,x):\n",
        "  y = m*x + b\n",
        "  return y\n",
        "get_y(4, 1, 5)"
      ]
    },
    {
      "cell_type": "markdown",
      "metadata": {
        "id": "mqoq6ZICm6LN"
      },
      "source": [
        "Robotnik quiere probar muchos valores de `m` y `b` para determinar cuál produce la línea con el menor error.\n",
        "\n",
        "Para calcular el error entre un punto y una línea, requiere una función llamada `calculate_error()`, que toma `m`, `b` y un punto llamado `point` que es una pareja de valores `(x, y)` (la velocidad y la energía medidas por los drones). La función debe retornar la distancia entre la línea y el punto.  \n",
        "\n",
        "Para encontrar esta distancia, considere lo siguiente:\n",
        "1. Obtenga el valor de $x$ del punto y almacénelo en una variable llamada `x_point`.\n",
        "2. Obtenga el valor de $y$ del punto y almacénelo en una variable llamada `y_point`.\n",
        "3. Utilice la función `get_y()` para obtener el valor de $y$ calculado con el valor de `x_point`.\n",
        "4. Calcule la diferencia entre la $y$ calculada con la función `get_y()` y `y_point`\n",
        "5. Retorne el valor absoluto de la distancia (puede usar la función `abs()` para hacer esto)."
      ]
    },
    {
      "cell_type": "code",
      "execution_count": 26,
      "metadata": {
        "id": "xKBHPxXim6LP",
        "outputId": "c9e0e1c4-ce5d-419f-d50c-3bfb52a74084",
        "colab": {
          "base_uri": "https://localhost:8080/"
        }
      },
      "outputs": [
        {
          "output_type": "execute_result",
          "data": {
            "text/plain": [
              "17"
            ]
          },
          "metadata": {},
          "execution_count": 26
        }
      ],
      "source": [
        "def calculate_error(m, b, point):\n",
        "  x_point, y_point = point\n",
        "  y_calculated = get_y(m, b, x_point)\n",
        "  error = abs(y_calculated - y_point)\n",
        "  return error\n",
        "point = (5,4)\n",
        "calculate_error(4, 1, point)"
      ]
    },
    {
      "cell_type": "markdown",
      "metadata": {
        "id": "hZjKVO6Om6LQ"
      },
      "source": [
        "Probemos la función:"
      ]
    },
    {
      "cell_type": "code",
      "execution_count": 27,
      "metadata": {
        "id": "ayv_FdJEm6LR",
        "outputId": "17517253-8684-4c9d-e919-cb0de464b080",
        "colab": {
          "base_uri": "https://localhost:8080/"
        }
      },
      "outputs": [
        {
          "output_type": "stream",
          "name": "stdout",
          "text": [
            "0\n",
            "1\n",
            "1\n",
            "5\n"
          ]
        }
      ],
      "source": [
        "#En esta línea, y = x, así que el punto (3, 3) debería estar sobre la línea. El error debe ser cero (0):\n",
        "print(calculate_error(1, 0, (3, 3)))\n",
        "\n",
        "#El punto (3, 4) debería estar a 1 unidad de distancia de la línea y = x:\n",
        "print(calculate_error(1, 0, (3, 4)))\n",
        "\n",
        "#El punto (3, 3) debería estar a 1 unidad de distancia de la línea y = x - 1:\n",
        "print(calculate_error(1, -1, (3, 3)))\n",
        "\n",
        "#El punto (3, 3) debería estar a 5 unidades de distancia de la línea y = -x + 1:\n",
        "print(calculate_error(-1, 1, (3, 3)))"
      ]
    },
    {
      "cell_type": "markdown",
      "metadata": {
        "collapsed": true,
        "id": "1jxcFWKQm6LT",
        "jupyter": {
          "outputs_hidden": true
        }
      },
      "source": [
        "Los datos de velocidad y energía recolectados por los drones de Robotnik han sido almacenados en una lista llamada `datapoints`:"
      ]
    },
    {
      "cell_type": "code",
      "execution_count": 29,
      "metadata": {
        "id": "hcwbW0Ldm6LU"
      },
      "outputs": [],
      "source": [
        "datapoints = [(1, 2), (2, 0), (3, 4), (4, 4), (5, 3)]"
      ]
    },
    {
      "cell_type": "markdown",
      "metadata": {
        "collapsed": true,
        "id": "WL0OSMlXm6LV",
        "jupyter": {
          "outputs_hidden": true
        }
      },
      "source": [
        "El primer registro, `(1, 2)`, significa que el erizo produjo una cantidad de energía de $2 GJ$ ($1 GJ = 277.8 kWh$) a una velocidad de $1 m/s$. A una velocidad de $4 m/s$ produjo $4 GJ$.\n",
        "\n",
        "A medida que buscamos una línea que se ajuste a estos datos, necesitaremos una función llamada `calculate_all_error`, que toma la `m` y la `b` que describe una línea, y un conjunto de datos `datapoints`.\n",
        "\n",
        "La función `calculate_all_error` debería iterar a través de cada `point`en `points` y calcular el error de ese punto hacia la línea (usando `calculate_error`). La función debe mantener un acumulador del error total, y luego retornar este valor al terminar de evaluar todos los puntos."
      ]
    },
    {
      "cell_type": "code",
      "execution_count": 30,
      "metadata": {
        "id": "qwzPAHFcm6LW",
        "colab": {
          "base_uri": "https://localhost:8080/"
        },
        "outputId": "a17d466b-c8ce-4e38-cb61-93ece93efb20"
      },
      "outputs": [
        {
          "output_type": "execute_result",
          "data": {
            "text/plain": [
              "72"
            ]
          },
          "metadata": {},
          "execution_count": 30
        }
      ],
      "source": [
        "def calculate_all_error(m, b, datapoints):\n",
        " total_error = 0\n",
        " for point in datapoints:\n",
        "   x, y = point\n",
        "   y_calculated = get_y(m, b, x)\n",
        "   error = abs(y_calculated - y)\n",
        "   total_error += error\n",
        " return total_error\n",
        "datapoints = [(1, 2), (2, 0), (3, 4), (4, 4), (5, 3)]\n",
        "calculate_all_error(4, 5, datapoints)"
      ]
    },
    {
      "cell_type": "markdown",
      "metadata": {
        "id": "CpHfWBRhm6LX"
      },
      "source": [
        "Probemos la función:"
      ]
    },
    {
      "cell_type": "code",
      "execution_count": 31,
      "metadata": {
        "id": "ENQY_hEtm6LX",
        "outputId": "ab087f11-dadc-4227-87ec-e8b341d81a4a",
        "colab": {
          "base_uri": "https://localhost:8080/"
        }
      },
      "outputs": [
        {
          "output_type": "stream",
          "name": "stdout",
          "text": [
            "0\n",
            "4\n",
            "4\n",
            "18\n"
          ]
        }
      ],
      "source": [
        "#Cada punto en este conjunto se encuentra sobre la línea y=x, por lo que el error total debería ser cero (0):\n",
        "test_datapoints = [(1, 1), (3, 3), (5, 5), (-1, -1)]\n",
        "print(calculate_all_error(1, 0, test_datapoints))\n",
        "\n",
        "#Cada punto en este conjunto está a 1 unidad de distancia de y = x + 1, por lo que el error total debería ser de cuatro (4):\n",
        "datapoints = [(1, 1), (3, 3), (5, 5), (-1, -1)]\n",
        "print(calculate_all_error(1, 1, test_datapoints))\n",
        "\n",
        "#Cada punto en este conjunto está a 1 unidad de distancia de y = x - 1, por lo que el error total debería ser de cuatro (4):\n",
        "datapoints = [(1, 1), (3, 3), (5, 5), (-1, -1)]\n",
        "print(calculate_all_error(1, -1, test_datapoints))\n",
        "\n",
        "#Los puntos en este conjunto están a 1, 5, 9, y 3 unidades de distancia de y = -x + 1, respectivamente,\n",
        "#por lo que el error total debería ser de 1 + 5 + 9 + 3 = 18\n",
        "datapoints = [(1, 1), (3, 3), (5, 5), (-1, -1)]\n",
        "print(calculate_all_error(-1, 1, test_datapoints))"
      ]
    },
    {
      "cell_type": "markdown",
      "metadata": {
        "id": "od89UvHsm6LY"
      },
      "source": [
        "Robotnik parece satisfecho. Parece que ya tenemos una función que toma una línea y los datos de los drones, y retornar qué tanto error se produce cuando tratamos de encajar la línea con los datos.\n",
        "\n",
        "El siguiente paso es encontrar la `m` y la `b` que minimiza este error, y así, la que mejor se ajusta a los datos."
      ]
    },
    {
      "cell_type": "markdown",
      "metadata": {
        "id": "9vN97L_Qm6LY"
      },
      "source": [
        "## Parte 2: Probando pendientes e interceptos"
      ]
    },
    {
      "cell_type": "markdown",
      "metadata": {
        "id": "XTGI6ecOm6LZ"
      },
      "source": [
        "Robotnik considera que la mejor forma de encontrar la línea que mejor se ajusta a los datos es a punta de ensayo y error. Para esto, se debe probar muchas pendientes diferentes (valores de `m`) y muchos interceptos diferentes (valores de `b`), y ver cuál de ellos produce el error más pequeño para los registros de los drones.\n",
        "\n",
        "Usando list comprehension, crea una lista de los posibles `m` a probar. Haz que la lisa `possible_ms` vaya de -10 a 10 (inclusiva) en incrementos de 0.1.\n",
        "\n",
        "Pista: (para ver la pista, haz doble clic en la celda para ver el texto oculto)\n",
        "<span style=\"visibility: hidden;\">\n",
        "  puedes atravesar los valores en range(-100, 101) y multiplicar cada uno por 0.1\n",
        "</span>"
      ]
    },
    {
      "cell_type": "code",
      "execution_count": null,
      "metadata": {
        "id": "Dx3yJKJFm6LZ"
      },
      "outputs": [],
      "source": [
        "possible_ms = [m * 0.1 for m in range(-100, 101)]"
      ]
    },
    {
      "cell_type": "markdown",
      "metadata": {
        "id": "pC7hbi64m6La"
      },
      "source": [
        "Ahora, crea una lista de los posibles `b` (`possible_bs`) entre -20 y 20 (inclusivo), en pasos de 0.1:"
      ]
    },
    {
      "cell_type": "code",
      "execution_count": null,
      "metadata": {
        "id": "3VjQWy6Cm6La"
      },
      "outputs": [],
      "source": [
        "possible_bs = [m * 0.1 for m in range(-200, 201)]"
      ]
    },
    {
      "cell_type": "markdown",
      "metadata": {
        "id": "wphxD026m6Lb"
      },
      "source": [
        "Para encontrar el error más pequeño, primero tenemos que crear todas las líneas posibles (`y = mx + b`) a partir de todas las `m` y las `b` posibles (`possible_ms` y `possible_bs`). Después, tenemos que evaluar qué línea produce el menor error total con el conjunto de datos de los registros de los drones (`datapoints`)\n",
        "\n",
        "Para esto:\n",
        "1. Crea las variables que estaremos optimizando:\n",
        "    * `smallest_error` - debería comenzar en el infinito (`float(\"inf\")`) tal que cualquier error que obtengamos inicialmente sea más pequeño que `smallest_error`.\n",
        "    * `best_m` - puede comenzar en cero (0).\n",
        "    * `best_b` - puede comenzar en cero (0).\n",
        "2. Itera a través de cada elemento `m` en `possible_ms`.\n",
        "3. Para cada valor de `m`, toma cada valor de `b` en `possible_bs`.\n",
        "4. Si el valor retornado de la función `calculate_all_error` para un valor de `m`, `b` y los `datapoints` es menor que el `smallest_error` actual, cambia los valores de `best_m`, `best_b` y `smallest_error`.\n",
        "\n",
        "Al finalizar los ciclos anidados, la variable `smallest_error` debería tener el menor error encontrado, y `best_m` y `best_b` deberían ser los valores que producen el menor error."
      ]
    },
    {
      "cell_type": "code",
      "execution_count": 57,
      "metadata": {
        "id": "gJzB664xm6Lb",
        "colab": {
          "base_uri": "https://localhost:8080/"
        },
        "outputId": "3af68268-692f-45cb-d67e-b046527c1c82"
      },
      "outputs": [
        {
          "output_type": "stream",
          "name": "stdout",
          "text": [
            "best_m = 0.3\n",
            "best_b = 1.7\n",
            "smallest_error = 5.0\n"
          ]
        }
      ],
      "source": [
        "datapoints = [(1, 2), (2, 0), (3, 4), (4, 4), (5, 3)]\n",
        "smallest_error = float(\"inf\")\n",
        "best_m = 0\n",
        "best_b = 0\n",
        "for m in possible_ms:\n",
        "  for b in possible_bs:\n",
        "    data = calculate_all_error(m, b, datapoints)\n",
        "    if data < smallest_error:\n",
        "      best_m = m\n",
        "      best_b = b\n",
        "      smallest_error = data\n",
        "print(f\"best_m = {round(best_m, 2)}\")\n",
        "print(f\"best_b = {round(best_b, 2)}\")\n",
        "print(f\"smallest_error = {round(smallest_error, 2)}\")"
      ]
    },
    {
      "cell_type": "markdown",
      "metadata": {
        "id": "OQdbTiKhm6Lb"
      },
      "source": [
        "## Parte 3: Predicciones del Modelo"
      ]
    },
    {
      "cell_type": "markdown",
      "metadata": {
        "id": "Z9Gnq9qSm6Lc"
      },
      "source": [
        "Utilizando los valores de `m` y `b` arrojados por nuestro algoritmo para encontrar la línea de mejor ajuste a los datos recopilados por los drones, grafica la línea energía-velocidad, así como los datos de velocidad y energía recolectados por los drones de Robotnik."
      ]
    },
    {
      "cell_type": "code",
      "execution_count": 63,
      "metadata": {
        "id": "CCRmXsJBm6Lc",
        "colab": {
          "base_uri": "https://localhost:8080/",
          "height": 472
        },
        "outputId": "e3971b15-3c58-4a8c-fadd-c0d36ec934e1"
      },
      "outputs": [
        {
          "output_type": "display_data",
          "data": {
            "text/plain": [
              "<Figure size 640x480 with 1 Axes>"
            ],
            "image/png": "[encoded data removed]"
          },
          "metadata": {}
        }
      ],
      "source": [
        "import matplotlib as mlp\n",
        "import matplotlib.pyplot as plt\n",
        "import numpy as np\n",
        "datapoints = [(1, 2), (2, 0), (3, 4), (4, 4), (5, 3)]\n",
        "x = [point[0] for point in datapoints]    #Def eje x\n",
        "y = [point[1] for point in datapoints]    #Def eje y\n",
        "x_line = np.linspace(min(x), max(x), 100)\n",
        "y_line = best_m * x_line + best_b\n",
        "plt.scatter(x, y)\n",
        "plt.plot(x_line, y_line, color='cyan')\n",
        "plt.xlabel('Velocidad')\n",
        "plt.ylabel('Energía')\n",
        "plt.title('Linea de mejor ajuste')\n",
        "plt.show()"
      ]
    },
    {
      "cell_type": "markdown",
      "metadata": {
        "id": "Dus1h-8YkdKl"
      },
      "source": [
        "Actividad desarrollada por Luis Miguel Sierra Gomezcasseres (luis.sierragc@upb.edu.co)."
      ]
    }
  ],
  "metadata": {
    "colab": {
      "provenance": [],
      "include_colab_link": true
    },
    "kernelspec": {
      "display_name": "Python 3 (ipykernel)",
      "language": "python",
      "name": "python3"
    },
    "language_info": {
      "codemirror_mode": {
        "name": "ipython",
        "version": 3
      },
      "file_extension": ".py",
      "mimetype": "text/x-python",
      "name": "python",
      "nbconvert_exporter": "python",
      "pygments_lexer": "ipython3",
      "version": "3.12.2"
    }
  },
  "nbformat": 4,
  "nbformat_minor": 0
}